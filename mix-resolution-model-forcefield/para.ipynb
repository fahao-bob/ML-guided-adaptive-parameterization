{
 "cells": [
  {
   "cell_type": "code",
   "execution_count": 1,
   "id": "7e0f44c4",
   "metadata": {},
   "outputs": [],
   "source": [
    "### date: 2023-02-17\n",
    "### usage:1. the original sourece should be save in files/itp/ \n",
    "###       2. para.py -la la -lb lb -lc lc -ele ele\n",
    "### result: the top.top, forcefield.itp, ff_hybrid_X.itp ffnonbonded_XX-XX-XX.itp are modified and moved into files. \n",
    "# -*- coding: utf-8 -*-\n",
    "\n",
    "import numpy as np\n",
    "import pandas as pd\n",
    "import matplotlib.pyplot as plt\n",
    "import time\n",
    "import os\n",
    "import argparse"
   ]
  },
  {
   "cell_type": "code",
   "execution_count": 2,
   "id": "2499c460",
   "metadata": {},
   "outputs": [],
   "source": [
    "###################### LOAD data\n",
    "DATA={}\n",
    "def loadtxt(file_path,col,q):\n",
    "    FILE={}\n",
    "    input={}\n",
    "    data={}\n",
    "    FILE=os.popen(\"{}|sort\".format(file_path))\n",
    "    input=FILE.readlines()\n",
    "    input=[x.strip('\\n') for x in input]\n",
    "#     print(input)\n",
    "    n=0\n",
    "    for i in input:\n",
    "        data[n]=np.loadtxt(input[n],comments=['#','@'],dtype=str)\n",
    "        if q in 'num':\n",
    "            data[n]=data[n][:,col].astype(np.float64)\n",
    "        else:\n",
    "            data[n]=data[n][:,col]\n",
    "        n=n+1\n",
    "    return data"
   ]
  },
  {
   "cell_type": "code",
   "execution_count": 4,
   "id": "245d638d",
   "metadata": {},
   "outputs": [],
   "source": [
    "######################  Delete the old itp  ###################\n",
    "cmd=\"rm -rf files/ff_hybrid* files/ffnonbonded_*.itp files/top.top fiels/forcefield.itp}\"; res=os.system(cmd)"
   ]
  },
  {
   "cell_type": "code",
   "execution_count": null,
   "id": "5a286b8e",
   "metadata": {},
   "outputs": [],
   "source": [
    "####################### Defining flags and help messages ############\n",
    "parser = argparse.ArgumentParser()\n",
    "parser.add_argument(\"-la\",  help=\"vdw la\")\n",
    "parser.add_argument(\"-lb\",  help=\"vdw lb\")\n",
    "parser.add_argument(\"-lc\",  help=\"vdw lc\")\n",
    "parser.add_argument(\"-ele\", help=\"ele\")\n",
    "args = parser.parse_args()\n",
    "\n",
    "\n",
    "la,lb,lc,ele=float(args.la),float(args.lb),float(args.lc),float(args.ele)\n",
    "# la,lb,lc,ele=1,1,1,1.2\n",
    "l_vacg=1\n",
    "print(la,lb,lc,ele)"
   ]
  },
  {
   "cell_type": "code",
   "execution_count": null,
   "id": "b686c5c4",
   "metadata": {},
   "outputs": [],
   "source": []
  },
  {
   "cell_type": "code",
   "execution_count": null,
   "id": "51c1b47d",
   "metadata": {},
   "outputs": [],
   "source": [
    "######################  ELE parameter  ###################\n",
    "cmd=\"sed -n '1,8p' files/itp/ff_hybrid_original.itp > ff_hybrid_01.itp \"; res=os.system(cmd)\n",
    "cmd=\"sed -n '9,48p' files/itp/ff_hybrid_original.itp > ff_hybrid_temp.itp \"; res=os.system(cmd)\n",
    "cmd=\"sed -n '50,297p' files/itp/ff_hybrid_original.itp > ff_hybrid_03.itp \"; res=os.system(cmd)\n",
    "\n",
    "\n",
    "file_path=\"find . -name  ff_hybrid_temp.itp\"\n",
    "\n",
    "DATA[1]=loadtxt(file_path,6,'num')\n",
    "size=len(DATA[1][0])\n",
    "para_ele=np.round(DATA[1][0]*ele,3).reshape(size,1)\n",
    "\n",
    "all=np.array([]).reshape(size,0)\n",
    "\n",
    "###### the 0-5 col\n",
    "for i in range(0,6):\n",
    "    data=loadtxt(file_path,i,'str')[0].reshape(size,1)\n",
    "    all=np.hstack((all,data))\n",
    "\n",
    "\n",
    "###### the 6-7 col\n",
    "all=np.hstack((all,para_ele,loadtxt(file_path,7,'num')[0].reshape(size,1)))    \n",
    "np.savetxt('ff_hybrid_02.itp',all,fmt='%10s')\n",
    "\n",
    "\n",
    "cmd = \"cat ff_hybrid_01.itp ff_hybrid_02.itp ff_hybrid_03.itp > ff_hybrid_{}.itp\".format(ele); res=os.system(cmd)\n",
    "cmd = \"sed -i 's/ZZZ/{}/g' ff_hybrid_{}.itp && rm -rf ff_hybrid_01.itp ff_hybrid_02.itp ff_hybrid_03.itp ff_hybrid_temp.itp\".format(ele,ele); res=os.system(cmd)"
   ]
  },
  {
   "cell_type": "code",
   "execution_count": null,
   "id": "40737e3d",
   "metadata": {},
   "outputs": [],
   "source": [
    "######################  vdw parameter  ###################\n",
    "cmd=\"sed -n '1,99p' files/itp/ffnonbonded_original.itp > ffnonbonded_01.itp \"; res=os.system(cmd)\n",
    "cmd=\"sed -n '100,111p' files/itp/ffnonbonded_original.itp > ffnonbonded_temp.itp \"; res=os.system(cmd)\n",
    "cmd=\"sed -n '113,3224p' files/itp/ffnonbonded_original.itp > ffnonbonded_03.itp \"; res=os.system(cmd)\n",
    "\n",
    "\n",
    "file_path=\"find . -name  ffnonbonded_temp.itp\"\n",
    "\n",
    "DATA[2]=loadtxt(file_path,3,'num'); DATA[3]=loadtxt(file_path,4,'num')\n",
    "\n",
    "size=len(DATA[2][0])\n",
    "\n",
    "para_vdw_A_C6=np.round(DATA[2][0][0:4]*la,5).reshape(int(size/3),1); para_vdw_A_C12=np.round(DATA[3][0][0:4]*la,7).reshape(int(size/3),1)\n",
    "para_vdw_B_C6=np.round(DATA[2][0][4:8]*lb,5).reshape(int(size/3),1); para_vdw_B_C12=np.round(DATA[3][0][4:8]*lb,7).reshape(int(size/3),1)\n",
    "para_vdw_C_C6=np.round(DATA[2][0][8:12]*lc,5).reshape(int(size/3),1); para_vdw_C_C12=np.round(DATA[3][0][8:12]*lc,7).reshape(int(size/3),1)\n",
    "\n",
    "C6=np.vstack((para_vdw_A_C6,para_vdw_B_C6,para_vdw_C_C6))\n",
    "C12=np.vstack((para_vdw_A_C12,para_vdw_B_C12,para_vdw_C_C12))\n",
    "# print(C6,C12)\n",
    "\n",
    "\n",
    "all=np.array([]).reshape(12,0)\n",
    "\n",
    "###### the 0-2 col\n",
    "for i in range(0,3):\n",
    "    data=loadtxt(file_path,i,'str')[0].reshape(size,1)\n",
    "    all=np.hstack((all,data))\n",
    "all=np.hstack((all,C6,C12))\n",
    "# print(all)\n",
    "\n",
    "np.savetxt('ffnonbonded_02.itp',all,fmt='%10s')\n",
    "\n",
    "cmd = \"cat ffnonbonded_01.itp ffnonbonded_02.itp ffnonbonded_03.itp > ffnonbonded_{}-{}-{}.itp\".format(la,lb,lc);res=os.system(cmd)\n",
    "cmd = \"sed -i 's/AAA/{}/g' ffnonbonded_{}-{}-{}.itp\".format(la,la,lb,lc); res=os.system(cmd)\n",
    "cmd = \"sed -i 's/BBB/{}/g' ffnonbonded_{}-{}-{}.itp\".format(lb,la,lb,lc); res=os.system(cmd)\n",
    "cmd = \"sed -i 's/CCC/{}/g' ffnonbonded_{}-{}-{}.itp\".format(lc,la,lb,lc); res=os.system(cmd)\n",
    "\n",
    "cmd = \"rm -rf ffnonbonded_01.itp ffnonbonded_02.itp ffnonbonded_03.itp ffnonbonded_temp.itp\"; res=os.system(cmd)"
   ]
  },
  {
   "cell_type": "code",
   "execution_count": null,
   "id": "99d26686",
   "metadata": {},
   "outputs": [],
   "source": [
    "#### modify top.top, forcefield.itp\n",
    "cmd = \"cp files/itp/top_original.top top.top && sed -i 's/ZZZ/{}/g' top.top\".format(ele); res=os.system(cmd)\n",
    "cmd = \"cp files/itp/forcefield_original.itp forcefield.itp && sed -i 's/AAA-BBB-CCC/{}-{}-{}/g' forcefield.itp\".format(la,lb,lc); res=os.system(cmd)\n",
    "cmd = \"mv *.top *.itp files\" ; res=os.system(cmd)"
   ]
  },
  {
   "cell_type": "code",
   "execution_count": null,
   "id": "d93daa1b",
   "metadata": {},
   "outputs": [],
   "source": []
  },
  {
   "cell_type": "code",
   "execution_count": null,
   "id": "2d45fdd6",
   "metadata": {},
   "outputs": [],
   "source": []
  }
 ],
 "metadata": {
  "kernelspec": {
   "display_name": "Python [conda env:machineL]",
   "language": "python",
   "name": "conda-env-machineL-py"
  },
  "language_info": {
   "codemirror_mode": {
    "name": "ipython",
    "version": 3
   },
   "file_extension": ".py",
   "mimetype": "text/x-python",
   "name": "python",
   "nbconvert_exporter": "python",
   "pygments_lexer": "ipython3",
   "version": "3.7.16"
  }
 },
 "nbformat": 4,
 "nbformat_minor": 5
}
